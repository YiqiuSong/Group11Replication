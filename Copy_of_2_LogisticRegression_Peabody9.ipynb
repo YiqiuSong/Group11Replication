{
  "nbformat": 4,
  "nbformat_minor": 0,
  "metadata": {
    "celltoolbar": "Raw Cell Format",
    "kernelspec": {
      "display_name": "Python 3",
      "language": "python",
      "name": "python3"
    },
    "language_info": {
      "codemirror_mode": {
        "name": "ipython",
        "version": 3
      },
      "file_extension": ".py",
      "mimetype": "text/x-python",
      "name": "python",
      "nbconvert_exporter": "python",
      "pygments_lexer": "ipython3",
      "version": "3.7.3"
    },
    "colab": {
      "provenance": [],
      "include_colab_link": true
    }
  },
  "cells": [
    {
      "cell_type": "markdown",
      "metadata": {
        "id": "view-in-github",
        "colab_type": "text"
      },
      "source": [
        "<a href=\"https://colab.research.google.com/github/YiqiuSong/Group11Replication/blob/main/Copy_of_2_LogisticRegression_Peabody9.ipynb\" target=\"_parent\"><img src=\"https://colab.research.google.com/assets/colab-badge.svg\" alt=\"Open In Colab\"/></a>"
      ]
    },
    {
      "cell_type": "markdown",
      "metadata": {
        "id": "rnpk6PJry21v"
      },
      "source": [
        "<img src=\"https://news.illinois.edu/files/6367/543635/116641.jpg\" alt=\"University of Illinois\" width=\"250\"/>\n",
        "\n",
        "## Group Coding Assignments for Deep Learning ##\n",
        "\n",
        "Note:  Anaconda Python <https://www.anaconda.com/distribution/> is a strong implementation of python."
      ]
    },
    {
      "cell_type": "markdown",
      "source": [
        "Contributors (Peabody9):\n",
        "\n",
        "Elizabeth Gao(yinuog4):\n",
        "\n",
        "Yiqiu Song (yiqius3)\n",
        "\n",
        "Viswanath Vadlamani (sv56)\n",
        "\n",
        "Bohan Li (bohanli5): Debugged and fixed critical numerical instability issues in a PyTorch logistic regression assignment by replacing the manual sigmoid implementation with torch.sigmoid(), adding epsilon protection to prevent log(0) errors, and reducing the learning rate from 0.1 to 0.01 to eliminate NaN outputs."
      ],
      "metadata": {
        "id": "LBKHbqaaeAaK"
      }
    },
    {
      "cell_type": "markdown",
      "metadata": {
        "id": "b2CU_7Bgy212"
      },
      "source": [
        "### imports and graphics configurations ###"
      ]
    },
    {
      "cell_type": "code",
      "metadata": {
        "id": "6elr9Ogwy213"
      },
      "source": [
        "import numpy as np\n",
        "import pandas as pd\n",
        "import time\n",
        "import random\n",
        "import matplotlib\n",
        "#%matplotlib notebook\n",
        "import matplotlib.pyplot as plt\n",
        "import scipy.stats\n",
        "import matplotlib.offsetbox as offsetbox\n",
        "from matplotlib.ticker import StrMethodFormatter\n",
        "import torch\n",
        "import torch.nn as nn"
      ],
      "execution_count": null,
      "outputs": []
    },
    {
      "cell_type": "code",
      "metadata": {
        "id": "ydypCNbYy213"
      },
      "source": [
        "#for some reason, this needs to be in a separate cell\n",
        "params={\n",
        "    \"font.size\":15,\n",
        "    \"lines.linewidth\":5,\n",
        "}\n",
        "plt.rcParams.update(params)"
      ],
      "execution_count": null,
      "outputs": []
    },
    {
      "cell_type": "markdown",
      "metadata": {
        "id": "zPaxaH3Uy214"
      },
      "source": [
        "# **Logistic Regression** #"
      ]
    },
    {
      "cell_type": "markdown",
      "metadata": {
        "id": "o9oq8jgzy214"
      },
      "source": [
        "**Transition Layer Width:** Take $N=200$ Gaussian points on the line centered at 0 and with variance 1.  Assign label 1 to the ones to the right of the origin and assign label 0 to the ones on the left of the origin.  Carry out the following with PyTorch\n",
        "* Carry out logistic regression, and note the width (scale) of the transition layer.\n",
        "* Flip 5 points on each side of the origin to the 'wrong' label and note the width (scale) of the transition layer\n",
        "* Flip 5 more points on each side of the origin to the 'wrong' label and note the width (scale) of the transition layer\n",
        "* Repeat this for 15, 20, 25, 30, 35 points and plot the width (scale) of the transition layer as a function of the number of points with the 'wrong' label."
      ]
    },
    {
      "cell_type": "code",
      "source": [
        "N = 200\n",
        "X = torch.randn(N,1)\n",
        "y = (X[:,0] > 0).float().view(-1,1)     # label 1 on the right, 0 on the left\n"
      ],
      "metadata": {
        "id": "0phf6DInwK_6"
      },
      "execution_count": null,
      "outputs": []
    },
    {
      "cell_type": "code",
      "source": [
        "def sigmoid(z):\n",
        "    return torch.sigmoid(z)\n",
        "\n",
        "def entropy(y, y_hat):\n",
        "    epsilon = 1e-15\n",
        "    y_hat = torch.clamp(y_hat, epsilon, 1 - epsilon)\n",
        "    return -(y*torch.log(y_hat) + (1-y)*torch.log(1-y_hat)).mean()\n"
      ],
      "metadata": {
        "id": "D9zX32oA5N6q"
      },
      "execution_count": null,
      "outputs": []
    },
    {
      "cell_type": "code",
      "source": [
        "model = torch.nn.Linear(1,1)\n",
        "opt = torch.optim.SGD(model.parameters(), lr=0.01)\n",
        "\n",
        "epochs = 2000\n",
        "for _ in range(epochs):\n",
        "    opt.zero_grad()\n",
        "    z = model(X)\n",
        "    y_hat = sigmoid(z)\n",
        "    loss = entropy(y, y_hat)\n",
        "    loss.backward()\n",
        "    opt.step()\n",
        "\n",
        "w = model.weight.item()\n",
        "width = 1/abs(w)\n",
        "\n",
        "print(f\"Slope w = {w:.4f}\")\n",
        "print(f\"Width ≈ {width:.4f}\")\n"
      ],
      "metadata": {
        "colab": {
          "base_uri": "https://localhost:8080/"
        },
        "id": "LwGEmI1u9mze",
        "outputId": "b844cc1f-9de7-4511-a923-e950c0fc2b0f"
      },
      "execution_count": null,
      "outputs": [
        {
          "output_type": "stream",
          "name": "stdout",
          "text": [
            "Slope w = 2.7367\n",
            "Width ≈ 0.3654\n"
          ]
        }
      ]
    },
    {
      "cell_type": "code",
      "source": [
        "y_flip = y.clone()\n",
        "\n",
        "dist = torch.abs(X[:,0])   # distance from origin\n",
        "\n",
        "# Left side (x<0)\n",
        "left_idx = torch.where(X[:,0] < 0)[0]\n",
        "flip_left = left_idx[dist[left_idx].topk(5, largest=False).indices]\n",
        "\n",
        "# Right side (x>0)\n",
        "right_idx = torch.where(X[:,0] > 0)[0]\n",
        "flip_right = right_idx[dist[right_idx].topk(5, largest=False).indices]\n",
        "\n",
        "# Flip labels\n",
        "y_flip[flip_left] = 1 - y[flip_left]\n",
        "y_flip[flip_right] = 1 - y[flip_right]\n",
        "\n",
        "model = torch.nn.Linear(1,1)\n",
        "opt = torch.optim.SGD(model.parameters(), lr=0.01)\n",
        "\n",
        "for _ in range(2000):\n",
        "    opt.zero_grad()\n",
        "    z = model(X)\n",
        "    y_hat = sigmoid(z)\n",
        "    loss = entropy(y_flip, y_hat)\n",
        "    loss.backward()\n",
        "    opt.step()\n",
        "\n",
        "w = model.weight.item()\n",
        "width = 1/abs(w)\n",
        "\n",
        "print(f\"Slope After Flipping 5 per side w = {w:.4f}\")\n",
        "print(f\"Width After Flipping 5 per side = {width:.4f}\")\n"
      ],
      "metadata": {
        "colab": {
          "base_uri": "https://localhost:8080/"
        },
        "id": "pLddDYKhCZmZ",
        "outputId": "27a0b243-5abb-4d47-d034-0a48ffc6173f"
      },
      "execution_count": null,
      "outputs": [
        {
          "output_type": "stream",
          "name": "stdout",
          "text": [
            "Slope After Flipping 5 per side w = 2.8318\n",
            "Width After Flipping 5 per side = 0.3531\n"
          ]
        }
      ]
    },
    {
      "cell_type": "code",
      "source": [
        "y_flip10 = y.clone()\n",
        "\n",
        "dist = torch.abs(X[:,0])   # distance from origin\n",
        "\n",
        "# Left side (x<0)\n",
        "left_idx = torch.where(X[:,0] < 0)[0]\n",
        "flip_left10 = left_idx[dist[left_idx].topk(10, largest=False).indices]\n",
        "\n",
        "# Right side (x>0)\n",
        "right_idx = torch.where(X[:,0] > 0)[0]\n",
        "flip_right10 = right_idx[dist[right_idx].topk(10, largest=False).indices]\n",
        "\n",
        "# Flip labels\n",
        "y_flip10[flip_left10] = 1 - y[flip_left10]\n",
        "y_flip10[flip_right10] = 1 - y[flip_right10]\n",
        "\n",
        "model = torch.nn.Linear(1,1)\n",
        "opt = torch.optim.SGD(model.parameters(), lr=0.01)\n",
        "\n",
        "for _ in range(2000):\n",
        "    opt.zero_grad()\n",
        "    z = model(X)\n",
        "    y_hat = sigmoid(z)\n",
        "    loss = entropy(y_flip10, y_hat)\n",
        "    loss.backward()\n",
        "    opt.step()\n",
        "\n",
        "w = model.weight.item()\n",
        "width = 1/abs(w)\n",
        "\n",
        "print(f\"Slope After Flipping 10 per side w = {w:.4f}\")\n",
        "print(f\"Width After Flipping 10 per side = {width:.4f}\")\n"
      ],
      "metadata": {
        "colab": {
          "base_uri": "https://localhost:8080/"
        },
        "id": "k-N9XTMcHw2B",
        "outputId": "735c355f-511e-4b22-e81a-b3b948808a08"
      },
      "execution_count": null,
      "outputs": [
        {
          "output_type": "stream",
          "name": "stdout",
          "text": [
            "Slope After Flipping 10 per side w = 2.4732\n",
            "Width After Flipping 10 per side = 0.4043\n"
          ]
        }
      ]
    },
    {
      "cell_type": "code",
      "source": [
        "results = []\n",
        "\n",
        "for k in [0, 5, 10, 15, 20, 25, 30, 35]:\n",
        "    y_flipk = y.clone()\n",
        "\n",
        "    if k > 0:\n",
        "        dist = torch.abs(X[:,0])\n",
        "\n",
        "        # Left side (x<0)\n",
        "        left_idx = torch.where(X[:,0] < 0)[0]\n",
        "        if len(left_idx) >= k:\n",
        "            flip_left = left_idx[dist[left_idx].topk(k, largest=False).indices]\n",
        "            y_flipk[flip_left] = 1 - y[flip_left]\n",
        "\n",
        "        # Right side (x>0)\n",
        "        right_idx = torch.where(X[:,0] > 0)[0]\n",
        "        if len(right_idx) >= k:\n",
        "            flip_right = right_idx[dist[right_idx].topk(k, largest=False).indices]\n",
        "            y_flipk[flip_right] = 1 - y[flip_right]\n",
        "\n",
        "    model = torch.nn.Linear(1,1)\n",
        "    opt = torch.optim.SGD(model.parameters(), lr=0.01)\n",
        "\n",
        "    for _ in range(2000):\n",
        "        opt.zero_grad()\n",
        "        z = model(X)\n",
        "        y_hat = sigmoid(z)\n",
        "        loss = entropy(y_flipk, y_hat)\n",
        "        loss.backward()\n",
        "        opt.step()\n",
        "\n",
        "    w = model.weight.item()\n",
        "    width = 1/abs(w)\n",
        "\n",
        "    total_wrong = 2*k\n",
        "    results.append((total_wrong, width))\n",
        "    print(f\"[{total_wrong} wrong labels] Width = {width:.4f}\")\n",
        "\n",
        "xs, ys = zip(*results)\n",
        "plt.plot(xs, ys, marker='o')\n",
        "plt.xlabel(\"Number of wrong labels (flipped)\")\n",
        "plt.ylabel(\"Transition width (≈1/|w|)\")\n",
        "plt.title(\"Transition Width vs Wrong Labels\")\n",
        "plt.show()"
      ],
      "metadata": {
        "colab": {
          "base_uri": "https://localhost:8080/",
          "height": 635
        },
        "id": "1UelKefaIZgX",
        "outputId": "c456e648-945c-43dd-c830-2f2f385c2692"
      },
      "execution_count": null,
      "outputs": [
        {
          "output_type": "stream",
          "name": "stdout",
          "text": [
            "[0 wrong labels] Width = 0.3664\n",
            "[10 wrong labels] Width = 0.3826\n",
            "[20 wrong labels] Width = 0.3651\n",
            "[30 wrong labels] Width = 0.3907\n",
            "[40 wrong labels] Width = 0.4265\n",
            "[50 wrong labels] Width = 0.4189\n",
            "[60 wrong labels] Width = 0.4389\n",
            "[70 wrong labels] Width = 0.5233\n"
          ]
        },
        {
          "output_type": "display_data",
          "data": {
            "text/plain": [
              "<Figure size 640x480 with 1 Axes>"
            ],
            "image/png": "[encoded data removed]"
          },
          "metadata": {}
        }
      ]
    },
    {
      "cell_type": "markdown",
      "metadata": {
        "id": "DHXyYqE71GuN"
      },
      "source": [
        "**Label Selection:** Using the data from the lecture, carry out logistic regression (you can use sklearn)\n",
        "* Label 0 is Condo/Co-op, Label 1 is other\n",
        "* Label 1 is Condo/Co-op, Label 0 is other\n",
        "\n",
        "How does the performance compare to what we did in class?"
      ]
    },
    {
      "cell_type": "code",
      "source": [
        "raw_data = pd.read_csv('https://drive.google.com/uc?export=download&id=1PA1ixsL-sMfJclTeJWc2lVifp5FtIYpn')\n",
        "raw_data.head(2)"
      ],
      "metadata": {
        "colab": {
          "base_uri": "https://localhost:8080/",
          "height": 245
        },
        "id": "LxLyzXWJJfUR",
        "outputId": "4858931d-89ac-4ef9-9623-7ef406a67b9e"
      },
      "execution_count": null,
      "outputs": [
        {
          "output_type": "execute_result",
          "data": {
            "text/plain": [
              "     SALE TYPE  SOLD DATE PROPERTY TYPE                ADDRESS      CITY  \\\n",
              "0  MLS Listing        NaN   Condo/Co-op   1516 Hinman Ave #507  Evanston   \n",
              "1  MLS Listing        NaN   Condo/Co-op  1791 W Howard St #209   Chicago   \n",
              "\n",
              "  STATE OR PROVINCE  ZIP OR POSTAL CODE   PRICE  BEDS  BATHS  ...  STATUS  \\\n",
              "0                IL               60201  200000   1.0    1.0  ...  Active   \n",
              "1                IL               60626  200000   2.0    2.0  ...  Active   \n",
              "\n",
              "   NEXT OPEN HOUSE START TIME  NEXT OPEN HOUSE END TIME  \\\n",
              "0                         NaN                       NaN   \n",
              "1                         NaN                       NaN   \n",
              "\n",
              "   URL (SEE https://www.redfin.com/buy-a-home/comparative-market-analysis FOR INFO ON PRICING)  \\\n",
              "0  https://www.redfin.com/IL/Evanston/1516-Hinman...                                             \n",
              "1  https://www.redfin.com/IL/Chicago/1791-W-Howar...                                             \n",
              "\n",
              "                            SOURCE      MLS#  FAVORITE INTERESTED   LATITUDE  \\\n",
              "0  MRED as Distributed by MLS Grid  12417637         N          Y  42.045258   \n",
              "1  MRED as Distributed by MLS Grid  12416866         N          Y  42.019204   \n",
              "\n",
              "   LONGITUDE  \n",
              "0 -87.678504  \n",
              "1 -87.675950  \n",
              "\n",
              "[2 rows x 27 columns]"
            ],
            "text/html": [
              "\n",
              "  <div id=\"df-5939e501-7246-41b4-ba34-0811ee9458c7\" class=\"colab-df-container\">\n",
              "    <div>\n",
              "<style scoped>\n",
              "    .dataframe tbody tr th:only-of-type {\n",
              "        vertical-align: middle;\n",
              "    }\n",
              "\n",
              "    .dataframe tbody tr th {\n",
              "        vertical-align: top;\n",
              "    }\n",
              "\n",
              "    .dataframe thead th {\n",
              "        text-align: right;\n",
              "    }\n",
              "</style>\n",
              "<table border=\"1\" class=\"dataframe\">\n",
              "  <thead>\n",
              "    <tr style=\"text-align: right;\">\n",
              "      <th></th>\n",
              "      <th>SALE TYPE</th>\n",
              "      <th>SOLD DATE</th>\n",
              "      <th>PROPERTY TYPE</th>\n",
              "      <th>ADDRESS</th>\n",
              "      <th>CITY</th>\n",
              "      <th>STATE OR PROVINCE</th>\n",
              "      <th>ZIP OR POSTAL CODE</th>\n",
              "      <th>PRICE</th>\n",
              "      <th>BEDS</th>\n",
              "      <th>BATHS</th>\n",
              "      <th>...</th>\n",
              "      <th>STATUS</th>\n",
              "      <th>NEXT OPEN HOUSE START TIME</th>\n",
              "      <th>NEXT OPEN HOUSE END TIME</th>\n",
              "      <th>URL (SEE https://www.redfin.com/buy-a-home/comparative-market-analysis FOR INFO ON PRICING)</th>\n",
              "      <th>SOURCE</th>\n",
              "      <th>MLS#</th>\n",
              "      <th>FAVORITE</th>\n",
              "      <th>INTERESTED</th>\n",
              "      <th>LATITUDE</th>\n",
              "      <th>LONGITUDE</th>\n",
              "    </tr>\n",
              "  </thead>\n",
              "  <tbody>\n",
              "    <tr>\n",
              "      <th>0</th>\n",
              "      <td>MLS Listing</td>\n",
              "      <td>NaN</td>\n",
              "      <td>Condo/Co-op</td>\n",
              "      <td>1516 Hinman Ave #507</td>\n",
              "      <td>Evanston</td>\n",
              "      <td>IL</td>\n",
              "      <td>60201</td>\n",
              "      <td>200000</td>\n",
              "      <td>1.0</td>\n",
              "      <td>1.0</td>\n",
              "      <td>...</td>\n",
              "      <td>Active</td>\n",
              "      <td>NaN</td>\n",
              "      <td>NaN</td>\n",
              "      <td>https://www.redfin.com/IL/Evanston/1516-Hinman...</td>\n",
              "      <td>MRED as Distributed by MLS Grid</td>\n",
              "      <td>12417637</td>\n",
              "      <td>N</td>\n",
              "      <td>Y</td>\n",
              "      <td>42.045258</td>\n",
              "      <td>-87.678504</td>\n",
              "    </tr>\n",
              "    <tr>\n",
              "      <th>1</th>\n",
              "      <td>MLS Listing</td>\n",
              "      <td>NaN</td>\n",
              "      <td>Condo/Co-op</td>\n",
              "      <td>1791 W Howard St #209</td>\n",
              "      <td>Chicago</td>\n",
              "      <td>IL</td>\n",
              "      <td>60626</td>\n",
              "      <td>200000</td>\n",
              "      <td>2.0</td>\n",
              "      <td>2.0</td>\n",
              "      <td>...</td>\n",
              "      <td>Active</td>\n",
              "      <td>NaN</td>\n",
              "      <td>NaN</td>\n",
              "      <td>https://www.redfin.com/IL/Chicago/1791-W-Howar...</td>\n",
              "      <td>MRED as Distributed by MLS Grid</td>\n",
              "      <td>12416866</td>\n",
              "      <td>N</td>\n",
              "      <td>Y</td>\n",
              "      <td>42.019204</td>\n",
              "      <td>-87.675950</td>\n",
              "    </tr>\n",
              "  </tbody>\n",
              "</table>\n",
              "<p>2 rows × 27 columns</p>\n",
              "</div>\n",
              "    <div class=\"colab-df-buttons\">\n",
              "\n",
              "  <div class=\"colab-df-container\">\n",
              "    <button class=\"colab-df-convert\" onclick=\"convertToInteractive('df-5939e501-7246-41b4-ba34-0811ee9458c7')\"\n",
              "            title=\"Convert this dataframe to an interactive table.\"\n",
              "            style=\"display:none;\">\n",
              "\n",
              "  <svg xmlns=\"http://www.w3.org/2000/svg\" height=\"24px\" viewBox=\"0 -960 960 960\">\n",
              "    <path d=\"M120-120v-720h720v720H120Zm60-500h600v-160H180v160Zm220 220h160v-160H400v160Zm0 220h160v-160H400v160ZM180-400h160v-160H180v160Zm440 0h160v-160H620v160ZM180-180h160v-160H180v160Zm440 0h160v-160H620v160Z\"/>\n",
              "  </svg>\n",
              "    </button>\n",
              "\n",
              "  <style>\n",
              "    .colab-df-container {\n",
              "      display:flex;\n",
              "      gap: 12px;\n",
              "    }\n",
              "\n",
              "    .colab-df-convert {\n",
              "      background-color: #E8F0FE;\n",
              "      border: none;\n",
              "      border-radius: 50%;\n",
              "      cursor: pointer;\n",
              "      display: none;\n",
              "      fill: #1967D2;\n",
              "      height: 32px;\n",
              "      padding: 0 0 0 0;\n",
              "      width: 32px;\n",
              "    }\n",
              "\n",
              "    .colab-df-convert:hover {\n",
              "      background-color: #E2EBFA;\n",
              "      box-shadow: 0px 1px 2px rgba(60, 64, 67, 0.3), 0px 1px 3px 1px rgba(60, 64, 67, 0.15);\n",
              "      fill: #174EA6;\n",
              "    }\n",
              "\n",
              "    .colab-df-buttons div {\n",
              "      margin-bottom: 4px;\n",
              "    }\n",
              "\n",
              "    [theme=dark] .colab-df-convert {\n",
              "      background-color: #3B4455;\n",
              "      fill: #D2E3FC;\n",
              "    }\n",
              "\n",
              "    [theme=dark] .colab-df-convert:hover {\n",
              "      background-color: #434B5C;\n",
              "      box-shadow: 0px 1px 3px 1px rgba(0, 0, 0, 0.15);\n",
              "      filter: drop-shadow(0px 1px 2px rgba(0, 0, 0, 0.3));\n",
              "      fill: #FFFFFF;\n",
              "    }\n",
              "  </style>\n",
              "\n",
              "    <script>\n",
              "      const buttonEl =\n",
              "        document.querySelector('#df-5939e501-7246-41b4-ba34-0811ee9458c7 button.colab-df-convert');\n",
              "      buttonEl.style.display =\n",
              "        google.colab.kernel.accessAllowed ? 'block' : 'none';\n",
              "\n",
              "      async function convertToInteractive(key) {\n",
              "        const element = document.querySelector('#df-5939e501-7246-41b4-ba34-0811ee9458c7');\n",
              "        const dataTable =\n",
              "          await google.colab.kernel.invokeFunction('convertToInteractive',\n",
              "                                                    [key], {});\n",
              "        if (!dataTable) return;\n",
              "\n",
              "        const docLinkHtml = 'Like what you see? Visit the ' +\n",
              "          '<a target=\"_blank\" href=https://colab.research.google.com/notebooks/data_table.ipynb>data table notebook</a>'\n",
              "          + ' to learn more about interactive tables.';\n",
              "        element.innerHTML = '';\n",
              "        dataTable['output_type'] = 'display_data';\n",
              "        await google.colab.output.renderOutput(dataTable, element);\n",
              "        const docLink = document.createElement('div');\n",
              "        docLink.innerHTML = docLinkHtml;\n",
              "        element.appendChild(docLink);\n",
              "      }\n",
              "    </script>\n",
              "  </div>\n",
              "\n",
              "\n",
              "    <div id=\"df-1be96888-0fb6-4321-a158-1f5ce323272d\">\n",
              "      <button class=\"colab-df-quickchart\" onclick=\"quickchart('df-1be96888-0fb6-4321-a158-1f5ce323272d')\"\n",
              "                title=\"Suggest charts\"\n",
              "                style=\"display:none;\">\n",
              "\n",
              "<svg xmlns=\"http://www.w3.org/2000/svg\" height=\"24px\"viewBox=\"0 0 24 24\"\n",
              "     width=\"24px\">\n",
              "    <g>\n",
              "        <path d=\"M19 3H5c-1.1 0-2 .9-2 2v14c0 1.1.9 2 2 2h14c1.1 0 2-.9 2-2V5c0-1.1-.9-2-2-2zM9 17H7v-7h2v7zm4 0h-2V7h2v10zm4 0h-2v-4h2v4z\"/>\n",
              "    </g>\n",
              "</svg>\n",
              "      </button>\n",
              "\n",
              "<style>\n",
              "  .colab-df-quickchart {\n",
              "      --bg-color: #E8F0FE;\n",
              "      --fill-color: #1967D2;\n",
              "      --hover-bg-color: #E2EBFA;\n",
              "      --hover-fill-color: #174EA6;\n",
              "      --disabled-fill-color: #AAA;\n",
              "      --disabled-bg-color: #DDD;\n",
              "  }\n",
              "\n",
              "  [theme=dark] .colab-df-quickchart {\n",
              "      --bg-color: #3B4455;\n",
              "      --fill-color: #D2E3FC;\n",
              "      --hover-bg-color: #434B5C;\n",
              "      --hover-fill-color: #FFFFFF;\n",
              "      --disabled-bg-color: #3B4455;\n",
              "      --disabled-fill-color: #666;\n",
              "  }\n",
              "\n",
              "  .colab-df-quickchart {\n",
              "    background-color: var(--bg-color);\n",
              "    border: none;\n",
              "    border-radius: 50%;\n",
              "    cursor: pointer;\n",
              "    display: none;\n",
              "    fill: var(--fill-color);\n",
              "    height: 32px;\n",
              "    padding: 0;\n",
              "    width: 32px;\n",
              "  }\n",
              "\n",
              "  .colab-df-quickchart:hover {\n",
              "    background-color: var(--hover-bg-color);\n",
              "    box-shadow: 0 1px 2px rgba(60, 64, 67, 0.3), 0 1px 3px 1px rgba(60, 64, 67, 0.15);\n",
              "    fill: var(--button-hover-fill-color);\n",
              "  }\n",
              "\n",
              "  .colab-df-quickchart-complete:disabled,\n",
              "  .colab-df-quickchart-complete:disabled:hover {\n",
              "    background-color: var(--disabled-bg-color);\n",
              "    fill: var(--disabled-fill-color);\n",
              "    box-shadow: none;\n",
              "  }\n",
              "\n",
              "  .colab-df-spinner {\n",
              "    border: 2px solid var(--fill-color);\n",
              "    border-color: transparent;\n",
              "    border-bottom-color: var(--fill-color);\n",
              "    animation:\n",
              "      spin 1s steps(1) infinite;\n",
              "  }\n",
              "\n",
              "  @keyframes spin {\n",
              "    0% {\n",
              "      border-color: transparent;\n",
              "      border-bottom-color: var(--fill-color);\n",
              "      border-left-color: var(--fill-color);\n",
              "    }\n",
              "    20% {\n",
              "      border-color: transparent;\n",
              "      border-left-color: var(--fill-color);\n",
              "      border-top-color: var(--fill-color);\n",
              "    }\n",
              "    30% {\n",
              "      border-color: transparent;\n",
              "      border-left-color: var(--fill-color);\n",
              "      border-top-color: var(--fill-color);\n",
              "      border-right-color: var(--fill-color);\n",
              "    }\n",
              "    40% {\n",
              "      border-color: transparent;\n",
              "      border-right-color: var(--fill-color);\n",
              "      border-top-color: var(--fill-color);\n",
              "    }\n",
              "    60% {\n",
              "      border-color: transparent;\n",
              "      border-right-color: var(--fill-color);\n",
              "    }\n",
              "    80% {\n",
              "      border-color: transparent;\n",
              "      border-right-color: var(--fill-color);\n",
              "      border-bottom-color: var(--fill-color);\n",
              "    }\n",
              "    90% {\n",
              "      border-color: transparent;\n",
              "      border-bottom-color: var(--fill-color);\n",
              "    }\n",
              "  }\n",
              "</style>\n",
              "\n",
              "      <script>\n",
              "        async function quickchart(key) {\n",
              "          const quickchartButtonEl =\n",
              "            document.querySelector('#' + key + ' button');\n",
              "          quickchartButtonEl.disabled = true;  // To prevent multiple clicks.\n",
              "          quickchartButtonEl.classList.add('colab-df-spinner');\n",
              "          try {\n",
              "            const charts = await google.colab.kernel.invokeFunction(\n",
              "                'suggestCharts', [key], {});\n",
              "          } catch (error) {\n",
              "            console.error('Error during call to suggestCharts:', error);\n",
              "          }\n",
              "          quickchartButtonEl.classList.remove('colab-df-spinner');\n",
              "          quickchartButtonEl.classList.add('colab-df-quickchart-complete');\n",
              "        }\n",
              "        (() => {\n",
              "          let quickchartButtonEl =\n",
              "            document.querySelector('#df-1be96888-0fb6-4321-a158-1f5ce323272d button');\n",
              "          quickchartButtonEl.style.display =\n",
              "            google.colab.kernel.accessAllowed ? 'block' : 'none';\n",
              "        })();\n",
              "      </script>\n",
              "    </div>\n",
              "\n",
              "    </div>\n",
              "  </div>\n"
            ],
            "application/vnd.google.colaboratory.intrinsic+json": {
              "type": "dataframe",
              "variable_name": "raw_data"
            }
          },
          "metadata": {},
          "execution_count": 21
        }
      ]
    },
    {
      "cell_type": "code",
      "source": [
        "name = ['PRICE', 'SQUARE FEET', 'BEDS', 'BATHS', 'YEAR BUILT', 'HOA/MONTH']\n",
        "data = raw_data.loc[:, name]\n",
        "data.dropna(inplace=True, ignore_index=True)\n",
        "features = data.iloc[:,1:]\n",
        "features['SQUARE FEET'] = features['SQUARE FEET']/10**3\n",
        "features['YEAR BUILT'] = features['YEAR BUILT']/10**3\n",
        "features['HOA/MONTH'] = features['HOA/MONTH']/10**3"
      ],
      "metadata": {
        "id": "gWKprGNQKW0i"
      },
      "execution_count": null,
      "outputs": []
    },
    {
      "cell_type": "code",
      "source": [
        "property_type = raw_data.loc[data.index, \"PROPERTY TYPE\"]\n",
        "\n",
        "y_case1 = (property_type != \"Condo/Co-op\").astype(int)  # 0=Condo, 1=Other\n",
        "y_case2 = (property_type == \"Condo/Co-op\").astype(int)  # 1=Condo, 0=Other"
      ],
      "metadata": {
        "id": "hV-dH4PfJk8G"
      },
      "execution_count": null,
      "outputs": []
    },
    {
      "cell_type": "code",
      "source": [
        "from sklearn.linear_model import LogisticRegression\n",
        "from sklearn.model_selection import train_test_split\n",
        "from sklearn.metrics import accuracy_score\n",
        "\n",
        "X_train, X_test, y1_train, y1_test = train_test_split(features, y_case1, test_size=0.3, random_state=0)\n",
        "_, _, y2_train, y2_test = train_test_split(features, y_case2, test_size=0.3, random_state=0)\n",
        "\n",
        "lr1 = LogisticRegression(solver=\"lbfgs\", max_iter=500)\n",
        "lr1.fit(X_train, y1_train)\n",
        "\n",
        "lr2 = LogisticRegression(solver=\"lbfgs\", max_iter=500)\n",
        "lr2.fit(X_train, y2_train)\n",
        "\n",
        "y1_pred = lr1.predict(X_test)\n",
        "y2_pred = lr2.predict(X_test)\n",
        "\n",
        "acc1 = accuracy_score(y1_test, y1_pred)\n",
        "acc2 = accuracy_score(y2_test, y2_pred)\n",
        "\n",
        "print(f\"Case 1 Accuracy: {acc1:.4f}\")\n",
        "print(f\"Case 2 Accuracy: {acc2:.4f}\")"
      ],
      "metadata": {
        "id": "pcGKqzyWvfhk",
        "colab": {
          "base_uri": "https://localhost:8080/"
        },
        "outputId": "188fd676-fe61-4603-abc1-392f5a14194f"
      },
      "execution_count": null,
      "outputs": [
        {
          "output_type": "stream",
          "name": "stdout",
          "text": [
            "Case 1 Accuracy: 0.3571\n",
            "Case 2 Accuracy: 0.3571\n"
          ]
        }
      ]
    },
    {
      "cell_type": "markdown",
      "source": [
        "When we repeated the logistic regression experiment with Condo/Co-op vs Other as the label, the accuracy in both label conventions (0=Condo/Co-op, 1=Other and vice versa) was about 0.3571. This matches what we observed in class: logistic regression performed poorly on this dataset because the classes are highly imbalanced, and the model essentially defaulted to the dominant class. Just as in the lecture notebook, flipping the label assignment did not change the accuracy — the performance remained low in both cases, with only the interpretation of coefficients reversing."
      ],
      "metadata": {
        "id": "zhq5NQZ6NWbw"
      }
    },
    {
      "cell_type": "code",
      "source": [],
      "metadata": {
        "id": "CMefeX_eNiFD"
      },
      "execution_count": null,
      "outputs": []
    }
  ]
}